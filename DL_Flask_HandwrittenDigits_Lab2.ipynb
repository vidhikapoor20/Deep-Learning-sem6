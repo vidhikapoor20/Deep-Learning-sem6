{
  "nbformat": 4,
  "nbformat_minor": 0,
  "metadata": {
    "colab": {
      "name": "DL_Flask_HandwrittenDigits_Lab2.ipynb",
      "provenance": []
    },
    "kernelspec": {
      "name": "python3",
      "display_name": "Python 3"
    }
  },
  "cells": [
    {
      "cell_type": "code",
      "metadata": {
        "id": "A4eIkb_rBrR-"
      },
      "source": [
        "import tensorflow as tf"
      ],
      "execution_count": 1,
      "outputs": []
    },
    {
      "cell_type": "code",
      "metadata": {
        "id": "LEuTBwhvCWk8"
      },
      "source": [
        "mnist = tf.keras.datasets.mnist\r\n",
        "\r\n",
        "(X_train, y_train), (X_test, y_test) = mnist.load_data()"
      ],
      "execution_count": 2,
      "outputs": []
    },
    {
      "cell_type": "code",
      "metadata": {
        "id": "Sj-8hLQuCarc"
      },
      "source": [
        "X_train, X_test = X_train/255.0, X_test/255.0"
      ],
      "execution_count": 3,
      "outputs": []
    },
    {
      "cell_type": "code",
      "metadata": {
        "id": "8DJ-RXt1Cc07"
      },
      "source": [
        "mnistnn = tf.keras.models.Sequential([\r\n",
        "               tf.keras.layers.Flatten(input_shape=(28,28,1)),                       \r\n",
        "               tf.keras.layers.Dense(units=128, activation='relu'),\r\n",
        "               tf.keras.layers.Dense(units=64, activation ='tanh'),\r\n",
        "               tf.keras.layers.Dense(units=30, activation = 'relu'),    \r\n",
        "               tf.keras.layers.Dense(units=10)                   \r\n",
        "])"
      ],
      "execution_count": 4,
      "outputs": []
    },
    {
      "cell_type": "code",
      "metadata": {
        "colab": {
          "base_uri": "https://localhost:8080/"
        },
        "id": "bc-JneW4C8XP",
        "outputId": "d95c8023-83a8-4099-f2e8-380525580f29"
      },
      "source": [
        "print(X_train.shape)\r\n",
        "print(X_test.shape)\r\n",
        "print(y_train.shape)\r\n",
        "print(y_test.shape)"
      ],
      "execution_count": 5,
      "outputs": [
        {
          "output_type": "stream",
          "text": [
            "(60000, 28, 28)\n",
            "(10000, 28, 28)\n",
            "(60000,)\n",
            "(10000,)\n"
          ],
          "name": "stdout"
        }
      ]
    },
    {
      "cell_type": "code",
      "metadata": {
        "id": "kjr7BTBoCezl"
      },
      "source": [
        "mnistnn.compile(loss=tf.keras.losses.SparseCategoricalCrossentropy(from_logits=True), optimizer='sgd', metrics=['accuracy'])"
      ],
      "execution_count": 6,
      "outputs": []
    },
    {
      "cell_type": "code",
      "metadata": {
        "colab": {
          "base_uri": "https://localhost:8080/"
        },
        "id": "lyeqLNrYCh6V",
        "outputId": "675a1550-cf20-4fd4-ae76-e42dcca361a5"
      },
      "source": [
        "history = mnistnn.fit(x=X_train, y=y_train,\r\n",
        "                      epochs=15, validation_split=0.2)"
      ],
      "execution_count": 7,
      "outputs": [
        {
          "output_type": "stream",
          "text": [
            "Epoch 1/15\n",
            "1500/1500 [==============================] - 3s 2ms/step - loss: 0.7252 - accuracy: 0.8064 - val_loss: 0.3339 - val_accuracy: 0.9072\n",
            "Epoch 2/15\n",
            "1500/1500 [==============================] - 3s 2ms/step - loss: 0.3026 - accuracy: 0.9121 - val_loss: 0.2460 - val_accuracy: 0.9306\n",
            "Epoch 3/15\n",
            "1500/1500 [==============================] - 3s 2ms/step - loss: 0.2354 - accuracy: 0.9315 - val_loss: 0.2106 - val_accuracy: 0.9402\n",
            "Epoch 4/15\n",
            "1500/1500 [==============================] - 3s 2ms/step - loss: 0.1954 - accuracy: 0.9424 - val_loss: 0.1785 - val_accuracy: 0.9482\n",
            "Epoch 5/15\n",
            "1500/1500 [==============================] - 3s 2ms/step - loss: 0.1670 - accuracy: 0.9509 - val_loss: 0.1594 - val_accuracy: 0.9552\n",
            "Epoch 6/15\n",
            "1500/1500 [==============================] - 3s 2ms/step - loss: 0.1450 - accuracy: 0.9570 - val_loss: 0.1440 - val_accuracy: 0.9592\n",
            "Epoch 7/15\n",
            "1500/1500 [==============================] - 3s 2ms/step - loss: 0.1278 - accuracy: 0.9625 - val_loss: 0.1372 - val_accuracy: 0.9607\n",
            "Epoch 8/15\n",
            "1500/1500 [==============================] - 3s 2ms/step - loss: 0.1141 - accuracy: 0.9669 - val_loss: 0.1262 - val_accuracy: 0.9646\n",
            "Epoch 9/15\n",
            "1500/1500 [==============================] - 3s 2ms/step - loss: 0.1026 - accuracy: 0.9706 - val_loss: 0.1204 - val_accuracy: 0.9663\n",
            "Epoch 10/15\n",
            "1500/1500 [==============================] - 3s 2ms/step - loss: 0.0927 - accuracy: 0.9741 - val_loss: 0.1162 - val_accuracy: 0.9673\n",
            "Epoch 11/15\n",
            "1500/1500 [==============================] - 3s 2ms/step - loss: 0.0847 - accuracy: 0.9762 - val_loss: 0.1090 - val_accuracy: 0.9689\n",
            "Epoch 12/15\n",
            "1500/1500 [==============================] - 3s 2ms/step - loss: 0.0775 - accuracy: 0.9781 - val_loss: 0.1068 - val_accuracy: 0.9694\n",
            "Epoch 13/15\n",
            "1500/1500 [==============================] - 3s 2ms/step - loss: 0.0713 - accuracy: 0.9800 - val_loss: 0.1018 - val_accuracy: 0.9710\n",
            "Epoch 14/15\n",
            "1500/1500 [==============================] - 3s 2ms/step - loss: 0.0652 - accuracy: 0.9817 - val_loss: 0.1015 - val_accuracy: 0.9712\n",
            "Epoch 15/15\n",
            "1500/1500 [==============================] - 3s 2ms/step - loss: 0.0602 - accuracy: 0.9828 - val_loss: 0.0989 - val_accuracy: 0.9723\n"
          ],
          "name": "stdout"
        }
      ]
    },
    {
      "cell_type": "code",
      "metadata": {
        "colab": {
          "base_uri": "https://localhost:8080/",
          "height": 295
        },
        "id": "-DLjuhhDCkJo",
        "outputId": "1b79b116-d8a4-4545-bc8f-4ff88acc352f"
      },
      "source": [
        "import matplotlib.pyplot as plt\r\n",
        "plt.plot(history.history['accuracy'])\r\n",
        "plt.plot(history.history['val_accuracy'])\r\n",
        "plt.xlabel('Epochs')\r\n",
        "plt.ylabel('Accuracy')\r\n",
        "plt.title('Accuracy vs Validation accuracy')\r\n",
        "plt.legend(['Train','Validation'])\r\n",
        "plt.show()"
      ],
      "execution_count": 8,
      "outputs": [
        {
          "output_type": "display_data",
          "data": {
            "image/png": "[encoded data removed]",
            "text/plain": [
              "<Figure size 432x288 with 1 Axes>"
            ]
          },
          "metadata": {
            "tags": [],
            "needs_background": "light"
          }
        }
      ]
    },
    {
      "cell_type": "code",
      "metadata": {
        "colab": {
          "base_uri": "https://localhost:8080/",
          "height": 295
        },
        "id": "eXPCTcYcDaO7",
        "outputId": "d668840e-5434-4cda-fcea-e2f3af6de946"
      },
      "source": [
        "import matplotlib.pyplot as plt\r\n",
        "plt.plot(history.history['loss'])\r\n",
        "plt.plot(history.history['val_loss'])\r\n",
        "plt.xlabel('Epochs')\r\n",
        "plt.ylabel('Loss')\r\n",
        "plt.title('Loss vs Validation loss')\r\n",
        "plt.legend(['Train','Validation'])\r\n",
        "plt.show()"
      ],
      "execution_count": 9,
      "outputs": [
        {
          "output_type": "display_data",
          "data": {
            "image/png": "[encoded data removed]",
            "text/plain": [
              "<Figure size 432x288 with 1 Axes>"
            ]
          },
          "metadata": {
            "tags": [],
            "needs_background": "light"
          }
        }
      ]
    },
    {
      "cell_type": "code",
      "metadata": {
        "colab": {
          "base_uri": "https://localhost:8080/"
        },
        "id": "A-jBZn1IDdAM",
        "outputId": "9a5c3575-37be-4089-b91e-b00c79cef65e"
      },
      "source": [
        "mnistnn.evaluate(X_test, y_test)"
      ],
      "execution_count": 10,
      "outputs": [
        {
          "output_type": "stream",
          "text": [
            "313/313 [==============================] - 0s 2ms/step - loss: 0.0950 - accuracy: 0.9695\n"
          ],
          "name": "stdout"
        },
        {
          "output_type": "execute_result",
          "data": {
            "text/plain": [
              "[0.09502257406711578, 0.9695000052452087]"
            ]
          },
          "metadata": {
            "tags": []
          },
          "execution_count": 10
        }
      ]
    },
    {
      "cell_type": "code",
      "metadata": {
        "id": "88dSuup4DgFw"
      },
      "source": [
        "mnistnn.save('mnistnn.h5', save_format='h5')"
      ],
      "execution_count": 11,
      "outputs": []
    },
    {
      "cell_type": "code",
      "metadata": {
        "id": "kwLhfu2kDimX"
      },
      "source": [
        "from keras.models import load_model\r\n",
        "\r\n",
        "newmodel = load_model('mnistnn.h5')"
      ],
      "execution_count": 12,
      "outputs": []
    },
    {
      "cell_type": "code",
      "metadata": {
        "colab": {
          "base_uri": "https://localhost:8080/"
        },
        "id": "IJVvGDlTDknJ",
        "outputId": "be658fa8-e712-45b6-91eb-55ad9d2bb38a"
      },
      "source": [
        "newmodel.summary()"
      ],
      "execution_count": 13,
      "outputs": [
        {
          "output_type": "stream",
          "text": [
            "Model: \"sequential\"\n",
            "_________________________________________________________________\n",
            "Layer (type)                 Output Shape              Param #   \n",
            "=================================================================\n",
            "flatten (Flatten)            (None, 784)               0         \n",
            "_________________________________________________________________\n",
            "dense (Dense)                (None, 128)               100480    \n",
            "_________________________________________________________________\n",
            "dense_1 (Dense)              (None, 64)                8256      \n",
            "_________________________________________________________________\n",
            "dense_2 (Dense)              (None, 30)                1950      \n",
            "_________________________________________________________________\n",
            "dense_3 (Dense)              (None, 10)                310       \n",
            "=================================================================\n",
            "Total params: 110,996\n",
            "Trainable params: 110,996\n",
            "Non-trainable params: 0\n",
            "_________________________________________________________________\n"
          ],
          "name": "stdout"
        }
      ]
    },
    {
      "cell_type": "code",
      "metadata": {
        "colab": {
          "base_uri": "https://localhost:8080/"
        },
        "id": "uVSMhPSZDnPz",
        "outputId": "c50c0f23-384b-4fe9-dc55-760120e93d19"
      },
      "source": [
        "newmodel.evaluate(X_test, y_test)"
      ],
      "execution_count": 14,
      "outputs": [
        {
          "output_type": "stream",
          "text": [
            "313/313 [==============================] - 0s 1ms/step - loss: 0.0950 - accuracy: 0.0985\n"
          ],
          "name": "stdout"
        },
        {
          "output_type": "execute_result",
          "data": {
            "text/plain": [
              "[0.09502257406711578, 0.09849999845027924]"
            ]
          },
          "metadata": {
            "tags": []
          },
          "execution_count": 14
        }
      ]
    },
    {
      "cell_type": "code",
      "metadata": {
        "colab": {
          "base_uri": "https://localhost:8080/"
        },
        "id": "SkhoA0cuDp7k",
        "outputId": "77edafe7-3a5d-4822-c47e-a359deb48519"
      },
      "source": [
        "ypred = mnistnn.predict_classes(X_test)"
      ],
      "execution_count": 15,
      "outputs": [
        {
          "output_type": "stream",
          "text": [
            "WARNING:tensorflow:From <ipython-input-15-3ecaf7a153f3>:1: Sequential.predict_classes (from tensorflow.python.keras.engine.sequential) is deprecated and will be removed after 2021-01-01.\n",
            "Instructions for updating:\n",
            "Please use instead:* `np.argmax(model.predict(x), axis=-1)`,   if your model does multi-class classification   (e.g. if it uses a `softmax` last-layer activation).* `(model.predict(x) > 0.5).astype(\"int32\")`,   if your model does binary classification   (e.g. if it uses a `sigmoid` last-layer activation).\n"
          ],
          "name": "stdout"
        }
      ]
    },
    {
      "cell_type": "markdown",
      "metadata": {
        "id": "xaueXGKBYw1S"
      },
      "source": [
        "##DEPLOYMENT"
      ]
    },
    {
      "cell_type": "code",
      "metadata": {
        "colab": {
          "base_uri": "https://localhost:8080/"
        },
        "id": "EhFZ3hqkDtHt",
        "outputId": "71fdac14-3236-43e7-db29-f18dde55af63"
      },
      "source": [
        "!pip install flask gevent requests pillow"
      ],
      "execution_count": 16,
      "outputs": [
        {
          "output_type": "stream",
          "text": [
            "Requirement already satisfied: flask in /usr/local/lib/python3.6/dist-packages (1.1.2)\n",
            "Requirement already satisfied: gevent in /usr/local/lib/python3.6/dist-packages (20.9.0)\n",
            "Requirement already satisfied: requests in /usr/local/lib/python3.6/dist-packages (2.23.0)\n",
            "Requirement already satisfied: pillow in /usr/local/lib/python3.6/dist-packages (7.0.0)\n",
            "Requirement already satisfied: itsdangerous>=0.24 in /usr/local/lib/python3.6/dist-packages (from flask) (1.1.0)\n",
            "Requirement already satisfied: Jinja2>=2.10.1 in /usr/local/lib/python3.6/dist-packages (from flask) (2.11.2)\n",
            "Requirement already satisfied: Werkzeug>=0.15 in /usr/local/lib/python3.6/dist-packages (from flask) (1.0.1)\n",
            "Requirement already satisfied: click>=5.1 in /usr/local/lib/python3.6/dist-packages (from flask) (7.1.2)\n",
            "Requirement already satisfied: zope.event in /usr/local/lib/python3.6/dist-packages (from gevent) (4.5.0)\n",
            "Requirement already satisfied: zope.interface in /usr/local/lib/python3.6/dist-packages (from gevent) (5.2.0)\n",
            "Requirement already satisfied: greenlet>=0.4.17; platform_python_implementation == \"CPython\" in /usr/local/lib/python3.6/dist-packages (from gevent) (0.4.17)\n",
            "Requirement already satisfied: setuptools in /usr/local/lib/python3.6/dist-packages (from gevent) (50.3.2)\n",
            "Requirement already satisfied: urllib3!=1.25.0,!=1.25.1,<1.26,>=1.21.1 in /usr/local/lib/python3.6/dist-packages (from requests) (1.24.3)\n",
            "Requirement already satisfied: chardet<4,>=3.0.2 in /usr/local/lib/python3.6/dist-packages (from requests) (3.0.4)\n",
            "Requirement already satisfied: idna<3,>=2.5 in /usr/local/lib/python3.6/dist-packages (from requests) (2.10)\n",
            "Requirement already satisfied: certifi>=2017.4.17 in /usr/local/lib/python3.6/dist-packages (from requests) (2020.12.5)\n",
            "Requirement already satisfied: MarkupSafe>=0.23 in /usr/local/lib/python3.6/dist-packages (from Jinja2>=2.10.1->flask) (1.1.1)\n"
          ],
          "name": "stdout"
        }
      ]
    },
    {
      "cell_type": "code",
      "metadata": {
        "id": "qAJA1kNAY0mo"
      },
      "source": [
        "procfile = 'web: gunicorn app:app'\r\n",
        "procfiles= open(\"/content/Procfile\",\"w\")\r\n",
        "procfiles.write(procfile)\r\n",
        "procfiles.close()"
      ],
      "execution_count": 17,
      "outputs": []
    },
    {
      "cell_type": "markdown",
      "metadata": {
        "id": "YG12UzaIY8Cc"
      },
      "source": [
        "##Install flask and ngrok"
      ]
    },
    {
      "cell_type": "code",
      "metadata": {
        "colab": {
          "base_uri": "https://localhost:8080/"
        },
        "id": "BoU3IPdWY5Ce",
        "outputId": "4062ead2-5147-45c2-c82d-3fbf27ad9020"
      },
      "source": [
        "!pip install flask-ngrok\r\n",
        "from flask_ngrok import run_with_ngrok\r\n",
        "from flask import Flask"
      ],
      "execution_count": 18,
      "outputs": [
        {
          "output_type": "stream",
          "text": [
            "Requirement already satisfied: flask-ngrok in /usr/local/lib/python3.6/dist-packages (0.0.25)\n",
            "Requirement already satisfied: requests in /usr/local/lib/python3.6/dist-packages (from flask-ngrok) (2.23.0)\n",
            "Requirement already satisfied: Flask>=0.8 in /usr/local/lib/python3.6/dist-packages (from flask-ngrok) (1.1.2)\n",
            "Requirement already satisfied: chardet<4,>=3.0.2 in /usr/local/lib/python3.6/dist-packages (from requests->flask-ngrok) (3.0.4)\n",
            "Requirement already satisfied: certifi>=2017.4.17 in /usr/local/lib/python3.6/dist-packages (from requests->flask-ngrok) (2020.12.5)\n",
            "Requirement already satisfied: urllib3!=1.25.0,!=1.25.1,<1.26,>=1.21.1 in /usr/local/lib/python3.6/dist-packages (from requests->flask-ngrok) (1.24.3)\n",
            "Requirement already satisfied: idna<3,>=2.5 in /usr/local/lib/python3.6/dist-packages (from requests->flask-ngrok) (2.10)\n",
            "Requirement already satisfied: click>=5.1 in /usr/local/lib/python3.6/dist-packages (from Flask>=0.8->flask-ngrok) (7.1.2)\n",
            "Requirement already satisfied: itsdangerous>=0.24 in /usr/local/lib/python3.6/dist-packages (from Flask>=0.8->flask-ngrok) (1.1.0)\n",
            "Requirement already satisfied: Werkzeug>=0.15 in /usr/local/lib/python3.6/dist-packages (from Flask>=0.8->flask-ngrok) (1.0.1)\n",
            "Requirement already satisfied: Jinja2>=2.10.1 in /usr/local/lib/python3.6/dist-packages (from Flask>=0.8->flask-ngrok) (2.11.2)\n",
            "Requirement already satisfied: MarkupSafe>=0.23 in /usr/local/lib/python3.6/dist-packages (from Jinja2>=2.10.1->Flask>=0.8->flask-ngrok) (1.1.1)\n"
          ],
          "name": "stdout"
        }
      ]
    },
    {
      "cell_type": "markdown",
      "metadata": {
        "id": "Z4_djPK1ZC3f"
      },
      "source": [
        "##WEBPAGE"
      ]
    },
    {
      "cell_type": "code",
      "metadata": {
        "id": "4lBFdLTAY-Te"
      },
      "source": [
        "a = '''\r\n",
        "<!doctype html>\r\n",
        "<html lang=\"en\">\r\n",
        "<head>\r\n",
        "</head> \r\n",
        "  <body>\r\n",
        " \r\n",
        "          <h3>Image Recognition Server</h3>\r\n",
        "       \r\n",
        "      <form action=\"\" method=post enctype=multipart/form-data>\r\n",
        "        <input type=file name=file>\r\n",
        "        <input type=submit value=Upload>\r\n",
        "    </form>\r\n",
        "    {{label}}  \r\n",
        "     \r\n",
        "  </body>\r\n",
        "  </html>\r\n",
        "  '''"
      ],
      "execution_count": 19,
      "outputs": []
    },
    {
      "cell_type": "code",
      "metadata": {
        "colab": {
          "base_uri": "https://localhost:8080/"
        },
        "id": "BJVebVuDZFmo",
        "outputId": "cb37368b-0362-4f9c-9bd8-10788827bdbc"
      },
      "source": [
        "!mkdir '/content/templates'\r\n",
        "!mkdir '/content/uploads'\r\n",
        "\r\n",
        "Html_file = open(\"/content/templates/index.html\", \"w\")\r\n",
        "Html_file.write(a)\r\n",
        "Html_file.close()"
      ],
      "execution_count": 20,
      "outputs": [
        {
          "output_type": "stream",
          "text": [
            "mkdir: cannot create directory ‘/content/templates’: File exists\n",
            "mkdir: cannot create directory ‘/content/uploads’: File exists\n"
          ],
          "name": "stdout"
        }
      ]
    },
    {
      "cell_type": "markdown",
      "metadata": {
        "id": "ONQv79_5ZPND"
      },
      "source": [
        "##DEPLOY MODEL"
      ]
    },
    {
      "cell_type": "code",
      "metadata": {
        "colab": {
          "base_uri": "https://localhost:8080/"
        },
        "id": "J_10GluvZJ1A",
        "outputId": "c7255143-1ea8-451d-eb78-16060e9d2e92"
      },
      "source": [
        "import os\r\n",
        "from flask import Flask, render_template, request\r\n",
        "from keras.preprocessing import image\r\n",
        "from keras.preprocessing.image import load_img, img_to_array\r\n",
        "import numpy as np\r\n",
        "\r\n",
        "app = Flask(__name__)\r\n",
        "run_with_ngrok(app)\r\n",
        "app.config['UPLOADS'] = 'uploads'\r\n",
        "\r\n",
        "\r\n",
        "def load_mymodel():\r\n",
        "    global mymodel\r\n",
        "    mymodel = load_model('mnistnn.h5')\r\n",
        "\r\n",
        "@app.route('/')\r\n",
        "def home():\r\n",
        "    return render_template('index.html')\r\n",
        "\r\n",
        "def predictions(file):\r\n",
        "    img = image.load_img(file, target_size=(28,28), color_mode=\"grayscale\")\r\n",
        "    img = img_to_array(img)\r\n",
        "    img = np.expand_dims(img, axis=0)\r\n",
        "    ans = mymodel.predict_classes(img)\r\n",
        "    return ans\r\n",
        "\r\n",
        "\r\n",
        "@app.route('/', methods=['POST'])\r\n",
        "def upload_files():\r\n",
        "    file = request.files['file']\r\n",
        "    filepath = os.path.join(app.config['UPLOADS'], file.filename)\r\n",
        "    file.save(filepath)\r\n",
        "    output = predictions(filepath)\r\n",
        "    return render_template('index.html', label=output)\r\n",
        "\r\n",
        "\r\n",
        "\r\n",
        "if __name__=='__main__':\r\n",
        "    load_mymodel()\r\n",
        "    app.run()"
      ],
      "execution_count": 21,
      "outputs": [
        {
          "output_type": "stream",
          "text": [
            " * Serving Flask app \"__main__\" (lazy loading)\n",
            " * Environment: production\n",
            "\u001b[31m   WARNING: This is a development server. Do not use it in a production deployment.\u001b[0m\n",
            "\u001b[2m   Use a production WSGI server instead.\u001b[0m\n",
            " * Debug mode: off\n"
          ],
          "name": "stdout"
        },
        {
          "output_type": "stream",
          "text": [
            " * Running on http://127.0.0.1:5000/ (Press CTRL+C to quit)\n"
          ],
          "name": "stderr"
        },
        {
          "output_type": "stream",
          "text": [
            " * Running on http://c8aff077fe68.ngrok.io\n",
            " * Traffic stats available on http://127.0.0.1:4040\n"
          ],
          "name": "stdout"
        },
        {
          "output_type": "stream",
          "text": [
            "127.0.0.1 - - [13/Dec/2020 05:32:44] \"\u001b[37mGET / HTTP/1.1\u001b[0m\" 200 -\n",
            "127.0.0.1 - - [13/Dec/2020 05:32:44] \"\u001b[33mGET /favicon.ico HTTP/1.1\u001b[0m\" 404 -\n",
            "127.0.0.1 - - [13/Dec/2020 05:32:53] \"\u001b[37mPOST / HTTP/1.1\u001b[0m\" 200 -\n",
            "127.0.0.1 - - [13/Dec/2020 05:33:06] \"\u001b[37mPOST / HTTP/1.1\u001b[0m\" 200 -\n"
          ],
          "name": "stderr"
        }
      ]
    },
    {
      "cell_type": "code",
      "metadata": {
        "id": "VDqMmevIZVVU"
      },
      "source": [
        ""
      ],
      "execution_count": 21,
      "outputs": []
    }
  ]
}