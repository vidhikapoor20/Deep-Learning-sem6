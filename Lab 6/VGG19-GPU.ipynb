{
 "cells": [
  {
   "cell_type": "markdown",
   "metadata": {},
   "source": [
    "**[Fashion-MNIST](https://github.com/zalandoresearch/fashion-mnist)** is a dataset of Zalando's article images—consisting of a training set of 60,000 examples and a test set of 10,000 examples. Each example is a 28x28 grayscale image, associated with a label from 10 classes. The dataset serves as a direct drop-in replacement for the original [MNIST dataset](http://yann.lecun.com/exdb/mnist/) for benchmarking machine learning algorithms. It shares the same image size and structure of training and testing splits.\n",
    "\n",
    "In this work, I will use the pre-trained model **VGG19**, developed by Karen Simonyan and Andrew Zisserman in 2014, a simple and widely used convnet architecture for ImageNet. The model is trained for 10 epochs with batch size of 256, compiled with `categorical_crossentropy` loss function and `Adam` optimizer.\n",
    "\n",
    "## Data Processing\n",
    "Let's first load the training and test data from csv files."
   ]
  },
  {
   "cell_type": "code",
   "execution_count": 1,
   "metadata": {},
   "outputs": [
    {
     "name": "stderr",
     "output_type": "stream",
     "text": [
      "/home/ubuntu/anaconda3/envs/tensorflow_p27/lib/python2.7/site-packages/h5py/__init__.py:36: FutureWarning: Conversion of the second argument of issubdtype from `float` to `np.floating` is deprecated. In future, it will be treated as `np.float64 == np.dtype(float).type`.\n",
      "  from ._conv import register_converters as _register_converters\n",
      "Using TensorFlow backend.\n"
     ]
    }
   ],
   "source": [
    "import numpy as np\n",
    "import pandas as pd\n",
    "import matplotlib.pyplot as plt\n",
    "from keras.utils import to_categorical\n",
    "\n",
    "# Load training and test data into dataframes\n",
    "data_train = pd.read_csv('data/fashion-mnist_train.csv')\n",
    "data_test = pd.read_csv('data/fashion-mnist_test.csv')\n",
    "\n",
    "# X forms the training images, and y forms the training labels\n",
    "X = np.array(data_train.iloc[:, 1:])\n",
    "y = to_categorical(np.array(data_train.iloc[:, 0]))\n",
    "\n",
    "# X_test forms the test images, and y_test forms the test labels\n",
    "X_test = np.array(data_test.iloc[:, 1:])\n",
    "y_test = to_categorical(np.array(data_test.iloc[:, 0]))"
   ]
  },
  {
   "cell_type": "markdown",
   "metadata": {},
   "source": [
    "The images of fashionMNIST are black and white, while the required input for VGG19 must be colored images. Thus, I convert the images into colored ones with 3 channels R, G, B."
   ]
  },
  {
   "cell_type": "code",
   "execution_count": 2,
   "metadata": {},
   "outputs": [
    {
     "data": {
      "text/plain": [
       "((60000, 784, 3), (10000, 784, 3))"
      ]
     },
     "execution_count": 2,
     "metadata": {},
     "output_type": "execute_result"
    }
   ],
   "source": [
    "# Convert the training and test images into 3 channels\n",
    "X = np.dstack([X] * 3)\n",
    "X_test = np.dstack([X_test]*3)\n",
    "\n",
    "# Display their new shapes\n",
    "X.shape, X_test.shape"
   ]
  },
  {
   "cell_type": "markdown",
   "metadata": {},
   "source": [
    "Let's reshape the images into tensor format as required by TensorFlow."
   ]
  },
  {
   "cell_type": "code",
   "execution_count": 3,
   "metadata": {},
   "outputs": [
    {
     "data": {
      "text/plain": [
       "((60000, 28, 28, 3), (10000, 28, 28, 3))"
      ]
     },
     "execution_count": 3,
     "metadata": {},
     "output_type": "execute_result"
    }
   ],
   "source": [
    "# Reshape images as per the tensor format required by tensorflow\n",
    "X = X.reshape(-1, 28,28,3)\n",
    "X_test= X_test.reshape (-1,28,28,3)\n",
    "\n",
    "# Display the new shape\n",
    "X.shape, X_test.shape"
   ]
  },
  {
   "cell_type": "markdown",
   "metadata": {},
   "source": [
    "VGG19 requires minimum input image's width and height of 48, but I'll resize my images from 28 x 28 to 150 x 150."
   ]
  },
  {
   "cell_type": "code",
   "execution_count": 4,
   "metadata": {},
   "outputs": [
    {
     "data": {
      "text/plain": [
       "((60000, 150, 150, 3), (10000, 150, 150, 3))"
      ]
     },
     "execution_count": 4,
     "metadata": {},
     "output_type": "execute_result"
    }
   ],
   "source": [
    "# Resize the images as 150 * 150 as required by VGG19\n",
    "from keras.preprocessing.image import img_to_array, array_to_img\n",
    "\n",
    "X = np.asarray([img_to_array(array_to_img(im, scale=False).resize((150,150))) for im in X])\n",
    "X_test = np.asarray([img_to_array(array_to_img(im, scale=False).resize((150,150))) for im in X_test])\n",
    "\n",
    "# Display the new shape\n",
    "X.shape, X_test.shape"
   ]
  },
  {
   "cell_type": "markdown",
   "metadata": {},
   "source": [
    "Here, I preprocess the images by reshaping them into the shape the network expects and scaling them so that all values are in the [0, 1] interval. For instance, the training images were stored in an array of shape (60000, 150, 150, 3) of type uint8 with values in the [0, 255] interval. I transform them into a float32 array of shape (60000, 150, 150, 3) with values between 0 and 1."
   ]
  },
  {
   "cell_type": "code",
   "execution_count": 5,
   "metadata": {
    "collapsed": true
   },
   "outputs": [],
   "source": [
    "# Normalise the data and change data type\n",
    "X = X.astype('float32')\n",
    "X /= 255\n",
    "\n",
    "X_test = X_test.astype('float32')\n",
    "X_test /= 255"
   ]
  },
  {
   "cell_type": "markdown",
   "metadata": {},
   "source": [
    "Here, I split the original training data (60,000 images) into 80% training (48,000 images) and 20% validation (12000 images) optimize the classifier, while keeping the test data (10,000 images) to finally evaluate the accuracy of the model on the data it has never seen. This helps to see whether I'm over-fitting on the training data and whether I should lower the learning rate and train for more epochs if validation accuracy is higher than training accuracy or stop over-training if training accuracy shift higher than the validation."
   ]
  },
  {
   "cell_type": "code",
   "execution_count": 6,
   "metadata": {},
   "outputs": [
    {
     "data": {
      "text/plain": [
       "((48000, 150, 150, 3), (12000, 150, 150, 3), (48000, 10), (12000, 10))"
      ]
     },
     "execution_count": 6,
     "metadata": {},
     "output_type": "execute_result"
    }
   ],
   "source": [
    "from sklearn.model_selection import train_test_split\n",
    "\n",
    "# Here I split original training data to sub-training (80%) and validation data (20%)\n",
    "X_train, X_val, y_train, y_val = train_test_split(X, y, test_size=0.2, random_state=13)\n",
    "\n",
    "# Check the data size whether it is as per tensorflow and VGG19 requirement\n",
    "X_train.shape, X_val.shape, y_train.shape, y_val.shape"
   ]
  },
  {
   "cell_type": "markdown",
   "metadata": {},
   "source": [
    "## VGG19\n",
    "A common and highly effective approach to deep learning on small image datasets is to use a pretrained network. A **pretrained network** is a saved network that was previously trained on a large dataset, typically on a large-scale image-classification task. If this original dataset is large enough and general enough, then the spatial hierarchy of features learned by the pretrained network can effectively act as a generic model of the visual world, and hence its features can prove useful for many different computer-vision problems, even though these new problems may involve completely different classes than those of the original task.\n",
    "\n",
    "I'll use the [VGG19 architecture](https://arxiv.org/abs/1409.1556), developed by Karen Simonyan and Andrew Zisserman in 2014. It’s a simple and widely used convnet architecture for ImageNet. The model comes pre-packaged with Keras. Let's instantiate it:"
   ]
  },
  {
   "cell_type": "code",
   "execution_count": 7,
   "metadata": {
    "collapsed": true
   },
   "outputs": [],
   "source": [
    "from keras.applications import VGG19\n",
    "\n",
    "# Create the base model of VGG19\n",
    "vgg19 = VGG19(weights='imagenet', include_top=False, input_shape = (150, 150, 3), classes = 10)"
   ]
  },
  {
   "cell_type": "markdown",
   "metadata": {},
   "source": [
    "I passed 4 arguments to the constructor:\n",
    "* `weights` specifies the weight checkpoint from which to initialize the model.\n",
    "* `include_top` refers to including (or not) the densely connected classifier on top of the network. By default, this densely connected classifier corresponds to the 1,000 classes from ImageNet. Because I intend to use my own densely connected classifier (with only 10 classes), I don’t need to include it.\n",
    "* `input_shape`: optional shape tuple, only to be specified if `include_top` is False.\n",
    "* `classes`: optional number of classes to classify images into, only to be specified if `include_top` is True, and if no `weights` argument is specified.\n",
    "\n",
    "Here's the detail of the architecture of the VGG19 convolutional base."
   ]
  },
  {
   "cell_type": "code",
   "execution_count": 8,
   "metadata": {},
   "outputs": [
    {
     "name": "stdout",
     "output_type": "stream",
     "text": [
      "_________________________________________________________________\n",
      "Layer (type)                 Output Shape              Param #   \n",
      "=================================================================\n",
      "input_1 (InputLayer)         (None, 150, 150, 3)       0         \n",
      "_________________________________________________________________\n",
      "block1_conv1 (Conv2D)        (None, 150, 150, 64)      1792      \n",
      "_________________________________________________________________\n",
      "block1_conv2 (Conv2D)        (None, 150, 150, 64)      36928     \n",
      "_________________________________________________________________\n",
      "block1_pool (MaxPooling2D)   (None, 75, 75, 64)        0         \n",
      "_________________________________________________________________\n",
      "block2_conv1 (Conv2D)        (None, 75, 75, 128)       73856     \n",
      "_________________________________________________________________\n",
      "block2_conv2 (Conv2D)        (None, 75, 75, 128)       147584    \n",
      "_________________________________________________________________\n",
      "block2_pool (MaxPooling2D)   (None, 37, 37, 128)       0         \n",
      "_________________________________________________________________\n",
      "block3_conv1 (Conv2D)        (None, 37, 37, 256)       295168    \n",
      "_________________________________________________________________\n",
      "block3_conv2 (Conv2D)        (None, 37, 37, 256)       590080    \n",
      "_________________________________________________________________\n",
      "block3_conv3 (Conv2D)        (None, 37, 37, 256)       590080    \n",
      "_________________________________________________________________\n",
      "block3_conv4 (Conv2D)        (None, 37, 37, 256)       590080    \n",
      "_________________________________________________________________\n",
      "block3_pool (MaxPooling2D)   (None, 18, 18, 256)       0         \n",
      "_________________________________________________________________\n",
      "block4_conv1 (Conv2D)        (None, 18, 18, 512)       1180160   \n",
      "_________________________________________________________________\n",
      "block4_conv2 (Conv2D)        (None, 18, 18, 512)       2359808   \n",
      "_________________________________________________________________\n",
      "block4_conv3 (Conv2D)        (None, 18, 18, 512)       2359808   \n",
      "_________________________________________________________________\n",
      "block4_conv4 (Conv2D)        (None, 18, 18, 512)       2359808   \n",
      "_________________________________________________________________\n",
      "block4_pool (MaxPooling2D)   (None, 9, 9, 512)         0         \n",
      "_________________________________________________________________\n",
      "block5_conv1 (Conv2D)        (None, 9, 9, 512)         2359808   \n",
      "_________________________________________________________________\n",
      "block5_conv2 (Conv2D)        (None, 9, 9, 512)         2359808   \n",
      "_________________________________________________________________\n",
      "block5_conv3 (Conv2D)        (None, 9, 9, 512)         2359808   \n",
      "_________________________________________________________________\n",
      "block5_conv4 (Conv2D)        (None, 9, 9, 512)         2359808   \n",
      "_________________________________________________________________\n",
      "block5_pool (MaxPooling2D)   (None, 4, 4, 512)         0         \n",
      "=================================================================\n",
      "Total params: 20,024,384\n",
      "Trainable params: 20,024,384\n",
      "Non-trainable params: 0\n",
      "_________________________________________________________________\n"
     ]
    }
   ],
   "source": [
    "vgg19.summary()"
   ]
  },
  {
   "cell_type": "markdown",
   "metadata": {},
   "source": [
    "## Feature Extraction\n",
    "Feature extraction consists of using the representations learned by a previous network to extract interesting features from new samples. These features are then run through a new classifier, which is trained from scratch.\n",
    "\n",
    "CNNs used for image classification comprise two parts: they start with a series of pooling and convolution layers, and they end with a densely-connected classifier. The first part is called the **\"convolutional base\"** of the model. In the case of convnets, **\"feature extraction\"** will simply consist of taking the convolutional base of a previously-trained network, running the new data through it, and training a new classifier on top of the output.\n",
    "\n",
    "![feature-extraction](images/swapping_fc_classifier.png)\n",
    "\n",
    "Why only reuse the convolutional base? Could we reuse the densely-connected classifier as well? In general, it should be avoided. The reason is simply that the representations learned by the convolutional base are likely to be more generic and therefore more reusable: the feature maps of a convnet are presence maps of generic concepts over a picture, which is likely to be useful regardless of the computer vision problem at hand. On the other end, the representations learned by the classifier will necessarily be very specific to the set of classes that the model was trained on -- they will only contain information about the presence probability of this or that class in the entire picture. Additionally, representations found in densely-connected layers no longer contain any information about where objects are located in the input image: these layers get rid of the notion of space, whereas the object location is still described by convolutional feature maps. For problems where object location matters, densely-connected features would be largely useless.\n",
    "\n",
    "Looking back at the VGG 19 architecture, the final feature map has shape `(4, 4, 512)`. That's the feature on top of which I will stick a densely-connected classifier. First, let's pre-process the data so that it's trainable using VGG19."
   ]
  },
  {
   "cell_type": "code",
   "execution_count": 9,
   "metadata": {
    "collapsed": true
   },
   "outputs": [],
   "source": [
    "from keras.applications.vgg19 import preprocess_input\n",
    "\n",
    "# Preprocessing the input \n",
    "X_train = preprocess_input(X_train)\n",
    "X_val = preprocess_input(X_val)\n",
    "X_test = preprocess_input(X_test)"
   ]
  },
  {
   "cell_type": "markdown",
   "metadata": {},
   "source": [
    "Now, in order to extract features from Fashion-MNIST, I will:\n",
    "* Run the convolutional base over the dataset.\n",
    "* Record its output to a Numpy array on disk. \n",
    "* Use this data as input to a standalone densely-connected classifier.\n",
    "\n",
    "This solution is very fast and cheap to run, because it only requires running the convolutional base once for every input image, and the convolutional base is by far the most expensive part of the pipeline. However, for the exact same reason, this technique would not allow me to leverage data augmentation at all.\n",
    "\n",
    "Now I will extract features from the train, test, and validation data simply by calling the `predict` method of the `vgg19` model."
   ]
  },
  {
   "cell_type": "code",
   "execution_count": 10,
   "metadata": {},
   "outputs": [
    {
     "name": "stdout",
     "output_type": "stream",
     "text": [
      "48000/48000 [==============================] - 271s 6ms/step\n",
      "10000/10000 [==============================] - 55s 6ms/step\n",
      "12000/12000 [==============================] - 72s 6ms/step\n"
     ]
    }
   ],
   "source": [
    "# Extracting features\n",
    "train_features = vgg19.predict(np.array(X_train), batch_size=256, verbose=1)\n",
    "test_features = vgg19.predict(np.array(X_test), batch_size=256, verbose=1)\n",
    "val_features = vgg19.predict(np.array(X_val), batch_size=256, verbose=1)"
   ]
  },
  {
   "cell_type": "code",
   "execution_count": 11,
   "metadata": {
    "collapsed": true
   },
   "outputs": [],
   "source": [
    "# Saving the features so that they can be used for future\n",
    "np.savez(\"train_features\", train_features, y_train)\n",
    "np.savez(\"test_features\", test_features, y_test)\n",
    "np.savez(\"val_features\", val_features, y_val)"
   ]
  },
  {
   "cell_type": "code",
   "execution_count": 12,
   "metadata": {},
   "outputs": [
    {
     "name": "stdout",
     "output_type": "stream",
     "text": [
      "((48000, 4, 4, 512), '\\n', (10000, 4, 4, 512), '\\n', (12000, 4, 4, 512))\n"
     ]
    }
   ],
   "source": [
    "# Current shape of features\n",
    "print(train_features.shape, \"\\n\",  test_features.shape, \"\\n\", val_features.shape)"
   ]
  },
  {
   "cell_type": "markdown",
   "metadata": {},
   "source": [
    "The extracted features are currently of shape `(samples, 4, 4, 512)`. I will feed them to a densely-connected classifier, so first I must flatten them to `(samples, 8192)`:"
   ]
  },
  {
   "cell_type": "code",
   "execution_count": 13,
   "metadata": {
    "collapsed": true
   },
   "outputs": [],
   "source": [
    "# Flatten extracted features\n",
    "train_features = np.reshape(train_features, (48000, 4*4*512))\n",
    "test_features = np.reshape(test_features, (10000, 4*4*512))\n",
    "val_features = np.reshape(val_features, (12000, 4*4*512))"
   ]
  },
  {
   "cell_type": "markdown",
   "metadata": {},
   "source": [
    "At this point, I can define the densely-connected classifier (note the use of dropout for regularization), and train it on the data and labels that I just recorded:"
   ]
  },
  {
   "cell_type": "code",
   "execution_count": 14,
   "metadata": {
    "collapsed": true
   },
   "outputs": [],
   "source": [
    "from keras.layers import Dense, Dropout\n",
    "from keras.models import Model\n",
    "from keras import models\n",
    "from keras import layers\n",
    "from keras import optimizers\n",
    "\n",
    "# Add Dense and Dropout layers on top of VGG19 pre-trained\n",
    "model = models.Sequential()\n",
    "model.add(layers.Dense(512, activation='relu', input_dim=4 * 4 * 512))\n",
    "model.add(layers.Dropout(0.5))\n",
    "model.add(layers.Dense(10, activation=\"softmax\"))"
   ]
  },
  {
   "cell_type": "markdown",
   "metadata": {},
   "source": [
    "When compiling the model, I choose **categorical_crossentropy** as the loss function (which is relevent for multiclass, single-label classification problem) and **Adam** optimizer.\n",
    "* The cross-entropy loss calculates the error rate between the predicted value and the original value. The formula for calculating cross-entropy loss is given [here](https://en.wikipedia.org/wiki/Cross_entropy). Categorical is used because there are 10 classes to predict from. If there were 2 classes, I would have used binary_crossentropy.\n",
    "* The Adam optimizer is an improvement over SGD(Stochastic Gradient Descent). The optimizer is responsible for updating the weights of the neurons via backpropagation. It calculates the derivative of the loss function with respect to each weight and subtracts it from the weight. That is how a neural network learns."
   ]
  },
  {
   "cell_type": "code",
   "execution_count": 15,
   "metadata": {
    "collapsed": true
   },
   "outputs": [],
   "source": [
    "import keras\n",
    "\n",
    "# Compile the model\n",
    "model.compile(loss=keras.losses.categorical_crossentropy,\n",
    "              optimizer=keras.optimizers.Adam(),\n",
    "              metrics=['accuracy'])"
   ]
  },
  {
   "cell_type": "markdown",
   "metadata": {},
   "source": [
    "## Training the Model\n",
    "As previously mentioned, I train the model with batch size of 256 and 10 epochs on both training and validation data."
   ]
  },
  {
   "cell_type": "code",
   "execution_count": 16,
   "metadata": {},
   "outputs": [
    {
     "name": "stdout",
     "output_type": "stream",
     "text": [
      "Train on 48000 samples, validate on 12000 samples\n",
      "Epoch 1/50\n",
      "48000/48000 [==============================] - 3s 67us/step - loss: 1.9221 - acc: 0.3443 - val_loss: 1.3791 - val_acc: 0.6001\n",
      "Epoch 2/50\n",
      "48000/48000 [==============================] - 3s 56us/step - loss: 1.2921 - acc: 0.5343 - val_loss: 1.0462 - val_acc: 0.6325\n",
      "Epoch 3/50\n",
      "48000/48000 [==============================] - 3s 55us/step - loss: 1.1065 - acc: 0.6021 - val_loss: 0.9350 - val_acc: 0.6776\n",
      "Epoch 4/50\n",
      "48000/48000 [==============================] - 3s 56us/step - loss: 1.0226 - acc: 0.6267 - val_loss: 0.9029 - val_acc: 0.6947\n",
      "Epoch 5/50\n",
      "48000/48000 [==============================] - 3s 55us/step - loss: 0.9720 - acc: 0.6465 - val_loss: 0.8144 - val_acc: 0.6997\n",
      "Epoch 6/50\n",
      "48000/48000 [==============================] - 3s 55us/step - loss: 0.9393 - acc: 0.6546 - val_loss: 0.7923 - val_acc: 0.7165\n",
      "Epoch 7/50\n",
      "48000/48000 [==============================] - 3s 55us/step - loss: 0.9196 - acc: 0.6638 - val_loss: 0.7616 - val_acc: 0.7234\n",
      "Epoch 8/50\n",
      "48000/48000 [==============================] - 3s 55us/step - loss: 0.9057 - acc: 0.6649 - val_loss: 0.7827 - val_acc: 0.6971\n",
      "Epoch 9/50\n",
      "48000/48000 [==============================] - 3s 56us/step - loss: 0.9116 - acc: 0.6601 - val_loss: 0.7542 - val_acc: 0.7364\n",
      "Epoch 10/50\n",
      "48000/48000 [==============================] - 3s 56us/step - loss: 0.8925 - acc: 0.6698 - val_loss: 0.7617 - val_acc: 0.7206\n",
      "Epoch 11/50\n",
      "48000/48000 [==============================] - 3s 56us/step - loss: 0.8843 - acc: 0.6703 - val_loss: 0.7256 - val_acc: 0.7334\n",
      "Epoch 12/50\n",
      "48000/48000 [==============================] - 3s 57us/step - loss: 0.8673 - acc: 0.6787 - val_loss: 0.7351 - val_acc: 0.7395\n",
      "Epoch 13/50\n",
      "48000/48000 [==============================] - 3s 56us/step - loss: 0.8883 - acc: 0.6693 - val_loss: 0.7566 - val_acc: 0.7373\n",
      "Epoch 14/50\n",
      "48000/48000 [==============================] - 3s 56us/step - loss: 0.8826 - acc: 0.6720 - val_loss: 0.7429 - val_acc: 0.7334\n",
      "Epoch 15/50\n",
      "48000/48000 [==============================] - 3s 55us/step - loss: 0.8722 - acc: 0.6755 - val_loss: 0.7118 - val_acc: 0.7463\n",
      "Epoch 16/50\n",
      "48000/48000 [==============================] - 3s 55us/step - loss: 0.8758 - acc: 0.6713 - val_loss: 0.6999 - val_acc: 0.7402\n",
      "Epoch 17/50\n",
      "48000/48000 [==============================] - 3s 55us/step - loss: 0.8642 - acc: 0.6765 - val_loss: 0.7113 - val_acc: 0.7460\n",
      "Epoch 18/50\n",
      "48000/48000 [==============================] - 3s 55us/step - loss: 0.8851 - acc: 0.6670 - val_loss: 0.7364 - val_acc: 0.7282\n",
      "Epoch 19/50\n",
      "48000/48000 [==============================] - 3s 56us/step - loss: 0.8827 - acc: 0.6687 - val_loss: 0.7187 - val_acc: 0.7415\n",
      "Epoch 20/50\n",
      "48000/48000 [==============================] - 3s 56us/step - loss: 0.8753 - acc: 0.6721 - val_loss: 0.7037 - val_acc: 0.7501\n",
      "Epoch 21/50\n",
      "48000/48000 [==============================] - 3s 56us/step - loss: 0.8672 - acc: 0.6724 - val_loss: 0.7154 - val_acc: 0.7419\n",
      "Epoch 22/50\n",
      "48000/48000 [==============================] - 3s 56us/step - loss: 0.8492 - acc: 0.6782 - val_loss: 0.6916 - val_acc: 0.7424\n",
      "Epoch 23/50\n",
      "48000/48000 [==============================] - 3s 56us/step - loss: 0.8557 - acc: 0.6761 - val_loss: 0.6768 - val_acc: 0.7537\n",
      "Epoch 24/50\n",
      "48000/48000 [==============================] - 3s 56us/step - loss: 0.8458 - acc: 0.6820 - val_loss: 0.6740 - val_acc: 0.7443\n",
      "Epoch 25/50\n",
      "48000/48000 [==============================] - 3s 55us/step - loss: 0.8587 - acc: 0.6776 - val_loss: 0.7116 - val_acc: 0.7379\n",
      "Epoch 26/50\n",
      "48000/48000 [==============================] - 3s 56us/step - loss: 0.8492 - acc: 0.6817 - val_loss: 0.6764 - val_acc: 0.7492\n",
      "Epoch 27/50\n",
      "48000/48000 [==============================] - 3s 55us/step - loss: 0.8439 - acc: 0.6818 - val_loss: 0.6934 - val_acc: 0.7437\n",
      "Epoch 28/50\n",
      "48000/48000 [==============================] - 3s 56us/step - loss: 0.8529 - acc: 0.6783 - val_loss: 0.6677 - val_acc: 0.7581\n",
      "Epoch 29/50\n",
      "48000/48000 [==============================] - 3s 55us/step - loss: 0.8252 - acc: 0.6884 - val_loss: 0.6711 - val_acc: 0.7447\n",
      "Epoch 30/50\n",
      "48000/48000 [==============================] - 3s 56us/step - loss: 0.8331 - acc: 0.6867 - val_loss: 0.6803 - val_acc: 0.7595\n",
      "Epoch 31/50\n",
      "48000/48000 [==============================] - 3s 56us/step - loss: 0.8317 - acc: 0.6891 - val_loss: 0.6504 - val_acc: 0.7632\n",
      "Epoch 32/50\n",
      "48000/48000 [==============================] - 3s 56us/step - loss: 0.8256 - acc: 0.6902 - val_loss: 0.6653 - val_acc: 0.7570\n",
      "Epoch 33/50\n",
      "48000/48000 [==============================] - 3s 56us/step - loss: 0.8300 - acc: 0.6904 - val_loss: 0.6643 - val_acc: 0.7562\n",
      "Epoch 34/50\n",
      "48000/48000 [==============================] - 3s 56us/step - loss: 0.8306 - acc: 0.6844 - val_loss: 0.6845 - val_acc: 0.7514\n",
      "Epoch 35/50\n",
      "48000/48000 [==============================] - 3s 55us/step - loss: 0.8400 - acc: 0.6836 - val_loss: 0.6420 - val_acc: 0.7650\n",
      "Epoch 36/50\n",
      "48000/48000 [==============================] - 3s 56us/step - loss: 0.8191 - acc: 0.6919 - val_loss: 0.6632 - val_acc: 0.7612\n",
      "Epoch 37/50\n",
      "48000/48000 [==============================] - 3s 56us/step - loss: 0.8260 - acc: 0.6879 - val_loss: 0.6564 - val_acc: 0.7623\n",
      "Epoch 38/50\n",
      "48000/48000 [==============================] - 3s 55us/step - loss: 0.8176 - acc: 0.6901 - val_loss: 0.6575 - val_acc: 0.7480\n",
      "Epoch 39/50\n",
      "48000/48000 [==============================] - 3s 56us/step - loss: 0.8120 - acc: 0.6930 - val_loss: 0.6423 - val_acc: 0.7626\n",
      "Epoch 40/50\n",
      "48000/48000 [==============================] - 3s 55us/step - loss: 0.8042 - acc: 0.6958 - val_loss: 0.6705 - val_acc: 0.7489\n",
      "Epoch 41/50\n",
      "48000/48000 [==============================] - 3s 56us/step - loss: 0.8099 - acc: 0.6940 - val_loss: 0.6373 - val_acc: 0.7587\n",
      "Epoch 42/50\n",
      "48000/48000 [==============================] - 3s 55us/step - loss: 0.8160 - acc: 0.6882 - val_loss: 0.6670 - val_acc: 0.7591\n",
      "Epoch 43/50\n",
      "48000/48000 [==============================] - 3s 55us/step - loss: 0.8174 - acc: 0.6924 - val_loss: 0.6468 - val_acc: 0.7660\n",
      "Epoch 44/50\n",
      "48000/48000 [==============================] - 3s 56us/step - loss: 0.7997 - acc: 0.7002 - val_loss: 0.6500 - val_acc: 0.7485\n",
      "Epoch 45/50\n",
      "48000/48000 [==============================] - 3s 55us/step - loss: 0.7972 - acc: 0.6977 - val_loss: 0.6235 - val_acc: 0.7606\n",
      "Epoch 46/50\n",
      "48000/48000 [==============================] - 3s 56us/step - loss: 0.7896 - acc: 0.7009 - val_loss: 0.6388 - val_acc: 0.7631\n",
      "Epoch 47/50\n",
      "48000/48000 [==============================] - 3s 56us/step - loss: 0.7814 - acc: 0.7055 - val_loss: 0.6425 - val_acc: 0.7648\n",
      "Epoch 48/50\n",
      "48000/48000 [==============================] - 3s 56us/step - loss: 0.7955 - acc: 0.6960 - val_loss: 0.6333 - val_acc: 0.7628\n",
      "Epoch 49/50\n",
      "48000/48000 [==============================] - 3s 56us/step - loss: 0.8114 - acc: 0.6936 - val_loss: 0.6658 - val_acc: 0.7451\n",
      "Epoch 50/50\n",
      "48000/48000 [==============================] - 3s 56us/step - loss: 0.7914 - acc: 0.7010 - val_loss: 0.6370 - val_acc: 0.7605\n"
     ]
    }
   ],
   "source": [
    "# Train the the model\n",
    "history = model.fit(train_features, y_train,\n",
    "          batch_size=256,\n",
    "          epochs=50,\n",
    "          verbose=1,\n",
    "          validation_data=(val_features, y_val))"
   ]
  },
  {
   "cell_type": "code",
   "execution_count": 17,
   "metadata": {},
   "outputs": [
    {
     "name": "stdout",
     "output_type": "stream",
     "text": [
      "('Test loss:', 0.6238402219772339)\n",
      "('Test accuracy:', 0.7664)\n"
     ]
    }
   ],
   "source": [
    "score = model.evaluate(test_features, y_test, verbose=0)\n",
    "print('Test loss:', score[0])\n",
    "print('Test accuracy:', score[1])"
   ]
  },
  {
   "cell_type": "markdown",
   "metadata": {},
   "source": [
    "Hmm, the test accuracy using pre-trained model si only 76.64%.\n",
    "\n",
    "## Results\n",
    "Let's plot training and validation accuracy as well as training and validation loss."
   ]
  },
  {
   "cell_type": "code",
   "execution_count": 18,
   "metadata": {},
   "outputs": [
    {
     "data": {
      "image/png": "[encoded data removed]",
      "text/plain": [
       "<Figure size 432x288 with 1 Axes>"
      ]
     },
     "metadata": {},
     "output_type": "display_data"
    },
    {
     "data": {
      "image/png": "[encoded data removed]",
      "text/plain": [
       "<Figure size 432x288 with 1 Axes>"
      ]
     },
     "metadata": {},
     "output_type": "display_data"
    }
   ],
   "source": [
    "# plot the loss and accuracy\n",
    "import matplotlib.pyplot as plt\n",
    "%matplotlib inline\n",
    "\n",
    "acc = history.history['acc']\n",
    "val_acc = history.history['val_acc']\n",
    "loss = history.history['loss']\n",
    "val_loss = history.history['val_loss']\n",
    "epochs = range(1, len(acc) + 1)\n",
    "\n",
    "plt.title('Training and validation accuracy')\n",
    "plt.plot(epochs, acc, 'red', label='Training acc')\n",
    "plt.plot(epochs, val_acc, 'blue', label='Validation acc')\n",
    "plt.legend()\n",
    "\n",
    "plt.figure()\n",
    "plt.title('Training and validation loss')\n",
    "plt.plot(epochs, loss, 'red', label='Training loss')\n",
    "plt.plot(epochs, val_loss, 'blue', label='Validation loss')\n",
    "\n",
    "plt.legend()\n",
    "\n",
    "plt.show()"
   ]
  },
  {
   "cell_type": "markdown",
   "metadata": {},
   "source": [
    "Although the lines of loss and accuracy for both training and validation follow similar trends, there're some space between their values.\n",
    "\n",
    "## Classification Report\n",
    "I can summarize the performance of my classifier as follows:"
   ]
  },
  {
   "cell_type": "code",
   "execution_count": 19,
   "metadata": {
    "collapsed": true
   },
   "outputs": [],
   "source": [
    "# get the predictions for the test data\n",
    "predicted_classes = model.predict_classes(test_features)\n",
    "\n",
    "# get the indices to be plotted\n",
    "y_true = data_test.iloc[:, 0]\n",
    "correct = np.nonzero(predicted_classes==y_true)[0]\n",
    "incorrect = np.nonzero(predicted_classes!=y_true)[0]"
   ]
  },
  {
   "cell_type": "code",
   "execution_count": 20,
   "metadata": {},
   "outputs": [
    {
     "name": "stdout",
     "output_type": "stream",
     "text": [
      "             precision    recall  f1-score   support\n",
      "\n",
      "    Class 0       0.63      0.83      0.71      1000\n",
      "    Class 1       0.94      0.95      0.95      1000\n",
      "    Class 2       0.68      0.56      0.61      1000\n",
      "    Class 3       0.81      0.79      0.80      1000\n",
      "    Class 4       0.62      0.76      0.68      1000\n",
      "    Class 5       0.77      0.95      0.85      1000\n",
      "    Class 6       0.50      0.27      0.35      1000\n",
      "    Class 7       0.89      0.77      0.82      1000\n",
      "    Class 8       0.87      0.94      0.90      1000\n",
      "    Class 9       0.91      0.85      0.88      1000\n",
      "\n",
      "avg / total       0.76      0.77      0.76     10000\n",
      "\n"
     ]
    }
   ],
   "source": [
    "from sklearn.metrics import classification_report\n",
    "target_names = [\"Class {}\".format(i) for i in range(10)]\n",
    "print(classification_report(y_true, predicted_classes, target_names=target_names))"
   ]
  },
  {
   "cell_type": "markdown",
   "metadata": {},
   "source": [
    "The model underperforms for Class 2 and 6. It lacks precision for class 0 and 4, additionally. "
   ]
  },
  {
   "cell_type": "code",
   "execution_count": 21,
   "metadata": {},
   "outputs": [
    {
     "data": {
      "text/plain": [
       "(7664, 8192)"
      ]
     },
     "execution_count": 21,
     "metadata": {},
     "output_type": "execute_result"
    }
   ],
   "source": [
    "test_features[correct].shape"
   ]
  }
 ],
 "metadata": {
  "kernelspec": {
   "display_name": "Python 3",
   "language": "python",
   "name": "python3"
  },
  "language_info": {
   "codemirror_mode": {
    "name": "ipython",
    "version": 3
   },
   "file_extension": ".py",
   "mimetype": "text/x-python",
   "name": "python",
   "nbconvert_exporter": "python",
   "pygments_lexer": "ipython3",
   "version": "3.6.4"
  }
 },
 "nbformat": 4,
 "nbformat_minor": 2
}
