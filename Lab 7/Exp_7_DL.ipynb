{
  "nbformat": 4,
  "nbformat_minor": 0,
  "metadata": {
    "colab": {
      "name": "Exp 7_DL.ipynb",
      "private_outputs": true,
      "provenance": []
    },
    "kernelspec": {
      "name": "python3",
      "display_name": "Python 3"
    },
    "accelerator": "GPU"
  },
  "cells": [
    {
      "cell_type": "markdown",
      "metadata": {
        "id": "dC_4wlOpt9vN"
      },
      "source": [
        "#Le-Net5"
      ]
    },
    {
      "cell_type": "code",
      "metadata": {
        "id": "NrJpy0cgtdJZ"
      },
      "source": [
        "from keras.models import Sequential\r\n",
        "from keras.layers import Dense, Conv2D, Flatten, MaxPooling2D"
      ],
      "execution_count": null,
      "outputs": []
    },
    {
      "cell_type": "code",
      "metadata": {
        "id": "E1gNfqDlubZl"
      },
      "source": [
        "lenet5 = Sequential()\r\n",
        "lenet5.add(Conv2D(filters=6, kernel_size=(5,5), strides=(1, 1), padding='valid',activation='relu', input_shape=(32,32,1)))\r\n",
        "lenet5.add(MaxPooling2D(pool_size=(2, 2), strides=2))\r\n",
        "lenet5.add(Conv2D(filters=16, kernel_size=(5,5), strides=(1, 1), padding='valid',activation='relu'))\r\n",
        "lenet5.add(MaxPooling2D(pool_size=(2, 2), strides=2))\r\n",
        "lenet5.add(Flatten())\r\n",
        "lenet5.add(Dense(units=120, activation='relu'))\r\n",
        "lenet5.add(Dense(units=84, activation='relu'))\r\n",
        "lenet5.add(Dense(units=10, activation='softmax'))"
      ],
      "execution_count": null,
      "outputs": []
    },
    {
      "cell_type": "code",
      "metadata": {
        "id": "YEjiZSnExFpl"
      },
      "source": [
        "lenet5.compile(loss='categorical_crossentropy', optimizer='adam', metrics=['accuracy'])"
      ],
      "execution_count": null,
      "outputs": []
    },
    {
      "cell_type": "code",
      "metadata": {
        "id": "Xi7K_b66w9ho"
      },
      "source": [
        "lenet5.summary()"
      ],
      "execution_count": null,
      "outputs": []
    },
    {
      "cell_type": "markdown",
      "metadata": {
        "id": "s7xpEodMzE0w"
      },
      "source": [
        "#AlexNet"
      ]
    },
    {
      "cell_type": "code",
      "metadata": {
        "id": "jKT0ZzIOxtDj"
      },
      "source": [
        "alexnet = Sequential()\r\n",
        "alexnet.add(Conv2D(filters=96, kernel_size=(11,11), strides=4, padding='valid', activation='relu', input_shape=(224,224,3)))\r\n",
        "alexnet.add(MaxPooling2D(pool_size=(3, 3), strides=2))\r\n",
        "alexnet.add(Conv2D(filters=256, kernel_size=(5,5), strides=1, padding='valid', activation='relu'))\r\n",
        "alexnet.add(MaxPooling2D(pool_size=(2, 2), strides=2))\r\n",
        "alexnet.add(Conv2D(filters=384, kernel_size=(3,3), strides=1, padding='valid', activation='relu'))\r\n",
        "alexnet.add(Conv2D(filters=384, kernel_size=(3,3), strides=1, padding='valid', activation='relu'))\r\n",
        "alexnet.add(Conv2D(filters=256, kernel_size=(3,3), strides=1, padding='valid', activation='relu'))\r\n",
        "alexnet.add(MaxPooling2D(pool_size=(2, 2), strides=2))\r\n",
        "alexnet.add(Flatten())\r\n",
        "alexnet.add(Dense(units=4096, activation='relu'))\r\n",
        "alexnet.add(Dense(units=4096, activation='relu'))\r\n",
        "alexnet.add(Dense(units=1000, activation='softmax'))"
      ],
      "execution_count": null,
      "outputs": []
    },
    {
      "cell_type": "code",
      "metadata": {
        "id": "XdXBorHg1AAR"
      },
      "source": [
        "alexnet.summary()"
      ],
      "execution_count": null,
      "outputs": []
    },
    {
      "cell_type": "markdown",
      "metadata": {
        "id": "FJxyJ-gb3lpj"
      },
      "source": [
        "#VGG-16"
      ]
    },
    {
      "cell_type": "code",
      "metadata": {
        "id": "PsFW5Ocb3m9Z"
      },
      "source": [
        "from keras.applications import VGG16\r\n",
        "from keras.layers import Input"
      ],
      "execution_count": null,
      "outputs": []
    },
    {
      "cell_type": "code",
      "metadata": {
        "id": "j7nVKWxR7q5p"
      },
      "source": [
        "basemodel = VGG16(weights=None,include_top=False,input_tensor=Input(shape=(32,32,3)))"
      ],
      "execution_count": null,
      "outputs": []
    },
    {
      "cell_type": "code",
      "metadata": {
        "id": "VTi_nWrT8c3J"
      },
      "source": [
        "finallayer = Sequential()\r\n",
        "finallayer.add(Flatten())\r\n",
        "finallayer.add(Dense(units=10,activation='softmax'))"
      ],
      "execution_count": null,
      "outputs": []
    },
    {
      "cell_type": "code",
      "metadata": {
        "id": "3tX7Jrv78s11"
      },
      "source": [
        "from keras.models import Model\r\n",
        "model = Model(inputs=basemodel.input, outputs=finallayer(basemodel.output))"
      ],
      "execution_count": null,
      "outputs": []
    },
    {
      "cell_type": "code",
      "metadata": {
        "id": "CDYLwJMD9DzN"
      },
      "source": [
        "model.compile(loss='categorical_crossentropy',optimizer='rmsprop',metrics=['accuracy'] )"
      ],
      "execution_count": null,
      "outputs": []
    },
    {
      "cell_type": "code",
      "metadata": {
        "id": "RjLK-QS-9NBa"
      },
      "source": [
        "model.summary()"
      ],
      "execution_count": null,
      "outputs": []
    },
    {
      "cell_type": "code",
      "metadata": {
        "id": "N0k56sZO9cYQ"
      },
      "source": [
        "from keras.datasets import cifar10"
      ],
      "execution_count": null,
      "outputs": []
    },
    {
      "cell_type": "code",
      "metadata": {
        "id": "y-TH3PBK9hE0"
      },
      "source": [
        "(X_train, y_train), (X_test, y_test) = cifar10.load_data()"
      ],
      "execution_count": null,
      "outputs": []
    },
    {
      "cell_type": "code",
      "metadata": {
        "id": "AHHZSk5j9xdk"
      },
      "source": [
        "from keras.utils import to_categorical\r\n",
        "y_train = to_categorical(y_train,10)\r\n",
        "y_test = to_categorical(y_test, 10)"
      ],
      "execution_count": null,
      "outputs": []
    },
    {
      "cell_type": "code",
      "metadata": {
        "id": "zKOQJ1qx-Ac_"
      },
      "source": [
        "X_train.shape"
      ],
      "execution_count": null,
      "outputs": []
    },
    {
      "cell_type": "code",
      "metadata": {
        "id": "7SE_vmsH-CVT"
      },
      "source": [
        "y_train.shape"
      ],
      "execution_count": null,
      "outputs": []
    },
    {
      "cell_type": "code",
      "metadata": {
        "id": "iKXd6vwa-snb"
      },
      "source": [
        "X_train = X_train/255.0\r\n",
        "X_test = X_test/255.0"
      ],
      "execution_count": null,
      "outputs": []
    },
    {
      "cell_type": "code",
      "metadata": {
        "id": "GZ7JUADJ-FmF"
      },
      "source": [
        "model.fit(X_train, y_train, epochs=10, validation_split=0.2)"
      ],
      "execution_count": null,
      "outputs": []
    },
    {
      "cell_type": "markdown",
      "metadata": {
        "id": "PjZXMWMN_-H7"
      },
      "source": [
        "#Xception"
      ]
    },
    {
      "cell_type": "code",
      "metadata": {
        "id": "CyUnQLegAATO"
      },
      "source": [
        "from keras.applications import xception"
      ],
      "execution_count": null,
      "outputs": []
    },
    {
      "cell_type": "code",
      "metadata": {
        "id": "gNX_VWTDAZBw"
      },
      "source": [
        "model = xception.Xception(include_top=True, weights='imagenet', input_tensor=None, input_shape=None, pooling=None, classes=1000, classifier_activation='softmax')"
      ],
      "execution_count": null,
      "outputs": []
    },
    {
      "cell_type": "code",
      "metadata": {
        "id": "TUFsEP4QApLM"
      },
      "source": [
        "!wget \"https://c402277.ssl.cf1.rackcdn.com/photos/11552/images/hero_small/rsz_namibia_will_burrard_lucas_wwf_us_1.jpg\" -P drive/app"
      ],
      "execution_count": null,
      "outputs": []
    },
    {
      "cell_type": "code",
      "metadata": {
        "id": "VTv-N2QeAzFc"
      },
      "source": [
        "imgpath = '/content/drive/app/rsz_namibia_will_burrard_lucas_wwf_us_1.jpg'"
      ],
      "execution_count": null,
      "outputs": []
    },
    {
      "cell_type": "code",
      "metadata": {
        "id": "g_0LDHQeA6pR"
      },
      "source": [
        "from keras.preprocessing import image\r\n",
        "from keras.applications.xception import preprocess_input, decode_predictions\r\n",
        "img = image.load_img(imgpath, target_size=(299,299))"
      ],
      "execution_count": null,
      "outputs": []
    },
    {
      "cell_type": "code",
      "metadata": {
        "id": "wksiVh_aBWHW"
      },
      "source": [
        "import numpy as np\r\n",
        "\r\n",
        "x = image.img_to_array(img)\r\n",
        "x = np.expand_dims(x, axis=0)\r\n",
        "x = preprocess_input(x)"
      ],
      "execution_count": null,
      "outputs": []
    },
    {
      "cell_type": "code",
      "metadata": {
        "id": "4RwKvs0NB2jg"
      },
      "source": [
        "preds = model.predict(x)"
      ],
      "execution_count": null,
      "outputs": []
    },
    {
      "cell_type": "code",
      "metadata": {
        "id": "2J15HJWrB8pn"
      },
      "source": [
        "decode_predictions(preds, top=10)"
      ],
      "execution_count": null,
      "outputs": []
    }
  ]
}